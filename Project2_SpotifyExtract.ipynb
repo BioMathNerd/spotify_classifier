{
 "cells": [
  {
   "cell_type": "code",
   "execution_count": 1,
   "id": "2de93d01",
   "metadata": {},
   "outputs": [],
   "source": [
    "!pip install spotipy --quiet"
   ]
  },
  {
   "cell_type": "code",
   "execution_count": 1,
   "id": "baae633d",
   "metadata": {},
   "outputs": [],
   "source": [
    "import sys\n",
    "import spotipy\n",
    "import spotipy.util as util\n",
    "import argparse\n",
    "import pprint\n",
    "import os\n",
    "import subprocess\n",
    "import json\n",
    "import pandas as pd\n",
    "import time"
   ]
  },
  {
   "cell_type": "code",
   "execution_count": 2,
   "id": "46f1f12d",
   "metadata": {},
   "outputs": [],
   "source": [
    "from spotipy.oauth2 import SpotifyClientCredentials\n",
    "\n",
    "\n",
    "client_credentials_manager = SpotifyClientCredentials(client_id='<your id here>', \n",
    "                                                      client_secret='<your client secret here>')\n",
    "sp = spotipy.Spotify(client_credentials_manager = client_credentials_manager)"
   ]
  },
  
  {
   "cell_type": "code",
   "execution_count": 7,
   "id": "0b5e105e",
   "metadata": {},
   "outputs": [
    {
     "name": "stdout",
     "output_type": "stream",
     "text": [
      "Starting...\n"
     ]
    },
    {
     "name": "stderr",
     "output_type": "stream",
     "text": [
      "usage: ipykernel_launcher.py [-h] [--username USERNAME]\n",
      "ipykernel_launcher.py: error: unrecognized arguments: -f /Users/jpate/Library/Jupyter/runtime/kernel-f625478f-3db1-44db-a178-cd0bcba79a28.json\n"
     ]
    },
    {
     "ename": "SystemExit",
     "evalue": "2",
     "output_type": "error",
     "traceback": [
      "An exception has occurred, use %tb to see the full traceback.\n",
      "\u001b[0;31mSystemExit\u001b[0m\u001b[0;31m:\u001b[0m 2\n"
     ]
    }
   ],
   "source": [
    "#from https://github.com/SylCard/Spotify-Emotions-Project/blob/master/getPlaylistData.py\n",
    "#client_credentials_manager = SpotifyClientCredentials(client_id='<your id here>',\n",
    "                                                      #client_secret='<your secret here>')\n",
    "\n",
    "\n",
    "def show_tracks(tracks):\n",
    "    for i, item in enumerate(tracks['items']):\n",
    "        track = item['track']\n",
    "        print (\" %d %s %s\" % (i, track['artists'][0]['name'],track['name']))\n",
    "\n",
    "def get_track_features(track_id,sp):\n",
    "    if track_id is None:\n",
    "        return None\n",
    "    else:\n",
    "        features = sp.audio_features([track_id])\n",
    "    return features\n",
    "\n",
    "def get_features(tracks,sp):\n",
    "    tracks_with_features=[]\n",
    "\n",
    "    for track in tracks:\n",
    "        features = get_track_features(track['id'],sp)\n",
    "        print (track['name'])\n",
    "        if not features:\n",
    "            print(\"passing track %s\" % track['name'])\n",
    "            pass\n",
    "        else:\n",
    "            f = features[0]\n",
    "            tracks_with_features.append(dict(\n",
    "                                            name=track['name'],\n",
    "                                            artist=track['artist'],\n",
    "                                            id=track['id'],\n",
    "                                            danceability=f['danceability'],\n",
    "                                            energy=f['energy'],\n",
    "                                            loudness=f['loudness'],\n",
    "                                            speechiness=f['speechiness'],\n",
    "                                            acousticness=f['acousticness'],\n",
    "                                            tempo=f['tempo'],\n",
    "                                            liveness=f['liveness'],\n",
    "                                            valence=f['valence'],\n",
    "                                            mode=f['mode']\n",
    "                                            ))\n",
    "\n",
    "        # time.sleep(0.1)\n",
    "\n",
    "    # print(tracks_with_features[0])\n",
    "    return tracks_with_features\n",
    "\n",
    "def get_tracks_from_playlists(username, sp):\n",
    "    playlists = sp.user_playlists(username)\n",
    "    trackList = []\n",
    "    for playlist in playlists['items']:\n",
    "        if playlist['owner']['id'] == username:\n",
    "            print (playlist['name'],' no. of tracks: ',playlist['tracks']['total'])\n",
    "            results = sp.user_playlist(username, playlist['id'],fields=\"tracks,next\")\n",
    "            tracks = results['tracks']\n",
    "            for i, item in enumerate(tracks['items']):\n",
    "                track = item['track']\n",
    "                trackList.append(dict(name=track['name'], id=track['id'], artist=track['artists'][0]['name']))\n",
    "\n",
    "    # print(trackList[0])\n",
    "    return trackList\n",
    "\n",
    "def write_to_csv(track_features):\n",
    "    df = pd.DataFrame(track_features)\n",
    "    df.drop_duplicates(subset=['name','artist'])\n",
    "    print ('Total tracks in data set', len(df))\n",
    "    df.to_csv('SongsDataset.csv',index=False)\n",
    "\n",
    "def main(username):\n",
    "    sp = spotipy.Spotify(client_credentials_manager=client_credentials_manager)\n",
    "    print (\"Getting user tracks from playlists\")\n",
    "    tracks = get_tracks_from_playlists(username, sp)\n",
    "    print (\"Getting track audio features\")\n",
    "    tracks_with_features = get_features(tracks,sp)\n",
    "    print (\"Storing into csv\")\n",
    "    write_to_csv(tracks_with_features)\n",
    "\n",
    "\n",
    "if __name__ == '__main__':\n",
    "    print ('Starting...')\n",
    "    parser = argparse.ArgumentParser(description='this sript will grab user playlists')\n",
    "    parser.add_argument('--username', help='username')\n",
    "    args = parser.parse_args()\n",
    "    main(args.username)"
   ]
  },
  
  {
   "cell_type": "code",
   "execution_count": null,
   "id": "df134c3a",
   "metadata": {},
   "outputs": [],
   "source": []
  },
  {
   "cell_type": "code",
   "execution_count": null,
   "id": "36dcaf24",
   "metadata": {},
   "outputs": [],
   "source": []
  }
 ],
 "metadata": {
  "kernelspec": {
   "display_name": "Python 3 (ipykernel)",
   "language": "python",
   "name": "python3"
  },
  "language_info": {
   "codemirror_mode": {
    "name": "ipython",
    "version": 3
   },
   "file_extension": ".py",
   "mimetype": "text/x-python",
   "name": "python",
   "nbconvert_exporter": "python",
   "pygments_lexer": "ipython3",
   "version": "3.9.7"
  }
 },
 "nbformat": 4,
 "nbformat_minor": 5
}
